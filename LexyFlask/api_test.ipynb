{
 "cells": [
  {
   "cell_type": "code",
   "execution_count": 4,
   "id": "initial_id",
   "metadata": {
    "collapsed": true,
    "ExecuteTime": {
     "end_time": "2024-06-17T07:45:45.707568800Z",
     "start_time": "2024-06-17T07:45:45.693812200Z"
    }
   },
   "outputs": [
    {
     "name": "stdout",
     "output_type": "stream",
     "text": [
      "None\n"
     ]
    }
   ],
   "source": [
    "import pprint\n",
    "from configuration.config import DATABASE\n",
    "\n",
    "print(DATABASE)\n",
    "\n",
    "testo = \"\"\"\n",
    "\"\"\""
   ]
  },
  {
   "cell_type": "code",
   "execution_count": null,
   "outputs": [],
   "source": [
    "from openai import OpenAI\n",
    "from configuration.config import TOKEN_CHAT_GPT\n",
    "client = OpenAI(api_key=\"\")\n",
    "\n",
    "response = client.chat.completions.create(\n",
    "  model=\"gpt-4\",\n",
    "  messages=[\n",
    "    {\n",
    "      \"role\": \"system\",\n",
    "      \"content\": \"Tu sei un professore di psicologia. Devi spiegarmi con parole semplici il testo ti passero.\"\n",
    "    },\n",
    "     {\n",
    "      \"role\": \"user\",\n",
    "      \"content\": f\"ecco il testo da spiegare:{testo}\"\n",
    "    },\n",
    "  ],\n",
    "  temperature=0.7,\n",
    "  top_p=1\n",
    ")\n",
    "\n",
    "pprint.pprint(response.choices[0].message.content)"
   ],
   "metadata": {
    "collapsed": false
   },
   "id": "a8e60e5c4531f50c"
  },
  {
   "cell_type": "code",
   "execution_count": null,
   "outputs": [],
   "source": [
    "import re\n",
    "\n",
    "testo_pulito = re.sub(r\"[\\\"']\", \"\", testo)\n",
    "\n",
    "# Rimuove i newline\n",
    "testo_pulito = re.sub(r\"\\n\", \" \", testo_pulito)\n",
    "\n",
    "print(testo_pulito)"
   ],
   "metadata": {
    "collapsed": false
   },
   "id": "9f557ee27ae0c8c9"
  }
 ],
 "metadata": {
  "kernelspec": {
   "display_name": "Python 3",
   "language": "python",
   "name": "python3"
  },
  "language_info": {
   "codemirror_mode": {
    "name": "ipython",
    "version": 2
   },
   "file_extension": ".py",
   "mimetype": "text/x-python",
   "name": "python",
   "nbconvert_exporter": "python",
   "pygments_lexer": "ipython2",
   "version": "2.7.6"
  }
 },
 "nbformat": 4,
 "nbformat_minor": 5
}
