{
 "cells": [
  {
   "cell_type": "code",
   "execution_count": 18,
   "id": "initial_id",
   "metadata": {
    "collapsed": true,
    "ExecuteTime": {
     "end_time": "2024-10-11T10:44:41.083485Z",
     "start_time": "2024-10-11T10:44:41.078142600Z"
    }
   },
   "outputs": [
    {
     "name": "stdout",
     "output_type": "stream",
     "text": [
      "None\n"
     ]
    }
   ],
   "source": [
    "import pprint\n",
    "from configuration.config import DATABASE\n",
    "\n",
    "print(DATABASE)\n",
    "\n",
    "testo = \"\"\"CIAO COME TI CHIAMI\n",
    "\"\"\""
   ]
  },
  {
   "cell_type": "code",
   "execution_count": 19,
   "outputs": [
    {
     "ename": "OpenAIError",
     "evalue": "The api_key client option must be set either by passing api_key to the client or by setting the OPENAI_API_KEY environment variable",
     "output_type": "error",
     "traceback": [
      "\u001B[1;31m---------------------------------------------------------------------------\u001B[0m",
      "\u001B[1;31mOpenAIError\u001B[0m                               Traceback (most recent call last)",
      "Cell \u001B[1;32mIn[19], line 3\u001B[0m\n\u001B[0;32m      1\u001B[0m \u001B[38;5;28;01mfrom\u001B[39;00m \u001B[38;5;21;01mopenai\u001B[39;00m \u001B[38;5;28;01mimport\u001B[39;00m OpenAI\n\u001B[0;32m      2\u001B[0m \u001B[38;5;28;01mfrom\u001B[39;00m \u001B[38;5;21;01mconfiguration\u001B[39;00m\u001B[38;5;21;01m.\u001B[39;00m\u001B[38;5;21;01mconfig\u001B[39;00m \u001B[38;5;28;01mimport\u001B[39;00m TOKEN_CHAT_GPT\n\u001B[1;32m----> 3\u001B[0m client \u001B[38;5;241m=\u001B[39m \u001B[43mOpenAI\u001B[49m\u001B[43m(\u001B[49m\u001B[43mapi_key\u001B[49m\u001B[38;5;241;43m=\u001B[39;49m\u001B[43mTOKEN_CHAT_GPT\u001B[49m\u001B[43m)\u001B[49m\n\u001B[0;32m      5\u001B[0m response \u001B[38;5;241m=\u001B[39m client\u001B[38;5;241m.\u001B[39mchat\u001B[38;5;241m.\u001B[39mcompletions\u001B[38;5;241m.\u001B[39mcreate(\n\u001B[0;32m      6\u001B[0m   model\u001B[38;5;241m=\u001B[39m\u001B[38;5;124m\"\u001B[39m\u001B[38;5;124mgpt-4\u001B[39m\u001B[38;5;124m\"\u001B[39m,\n\u001B[0;32m      7\u001B[0m   messages\u001B[38;5;241m=\u001B[39m[\n\u001B[1;32m   (...)\u001B[0m\n\u001B[0;32m     18\u001B[0m   top_p\u001B[38;5;241m=\u001B[39m\u001B[38;5;241m1\u001B[39m\n\u001B[0;32m     19\u001B[0m )\n\u001B[0;32m     21\u001B[0m pprint\u001B[38;5;241m.\u001B[39mpprint(response\u001B[38;5;241m.\u001B[39mchoices[\u001B[38;5;241m0\u001B[39m]\u001B[38;5;241m.\u001B[39mmessage\u001B[38;5;241m.\u001B[39mcontent[\u001B[38;5;241m0\u001B[39m])\n",
      "File \u001B[1;32mD:\\progetti\\universitá\\tesi\\TesiLexy\\LexyFlask\\.venv\\Lib\\site-packages\\openai\\_client.py:104\u001B[0m, in \u001B[0;36m__init__\u001B[1;34m(self, api_key, organization, project, base_url, timeout, max_retries, default_headers, default_query, http_client, _strict_response_validation)\u001B[0m\n\u001B[0;32m    102\u001B[0m \u001B[38;5;28;01mif\u001B[39;00m api_key \u001B[38;5;129;01mis\u001B[39;00m \u001B[38;5;28;01mNone\u001B[39;00m:\n\u001B[0;32m    103\u001B[0m     api_key \u001B[38;5;241m=\u001B[39m os\u001B[38;5;241m.\u001B[39menviron\u001B[38;5;241m.\u001B[39mget(\u001B[38;5;124m\"\u001B[39m\u001B[38;5;124mOPENAI_API_KEY\u001B[39m\u001B[38;5;124m\"\u001B[39m)\n\u001B[1;32m--> 104\u001B[0m \u001B[38;5;28;01mif\u001B[39;00m api_key \u001B[38;5;129;01mis\u001B[39;00m \u001B[38;5;28;01mNone\u001B[39;00m:\n\u001B[0;32m    105\u001B[0m     \u001B[38;5;28;01mraise\u001B[39;00m OpenAIError(\n\u001B[0;32m    106\u001B[0m         \u001B[38;5;124m\"\u001B[39m\u001B[38;5;124mThe api_key client option must be set either by passing api_key to the client or by setting the OPENAI_API_KEY environment variable\u001B[39m\u001B[38;5;124m\"\u001B[39m\n\u001B[0;32m    107\u001B[0m     )\n\u001B[0;32m    108\u001B[0m \u001B[38;5;28mself\u001B[39m\u001B[38;5;241m.\u001B[39mapi_key \u001B[38;5;241m=\u001B[39m api_key\n",
      "\u001B[1;31mOpenAIError\u001B[0m: The api_key client option must be set either by passing api_key to the client or by setting the OPENAI_API_KEY environment variable"
     ]
    }
   ],
   "source": [
    "from openai import OpenAI\n",
    "from configuration.config import TOKEN_CHAT_GPT\n",
    "client = OpenAI(api_key=TOKEN_CHAT_GPT)\n",
    "\n",
    "response = client.chat.completions.create(\n",
    "  model=\"gpt-4\",\n",
    "  messages=[\n",
    "    {\n",
    "      \"role\": \"system\",\n",
    "      \"content\": \"Tu sei un professore di psicologia. Devi spiegarmi con parole semplici il testo ti passero.\"\n",
    "    },\n",
    "     {\n",
    "      \"role\": \"user\",\n",
    "      \"content\": f\"ecco il testo da spiegare:{testo}\"\n",
    "    },\n",
    "  ],\n",
    "  temperature=0.7,\n",
    "  top_p=1\n",
    ")\n",
    "\n",
    "pprint.pprint(response.choices[0].message.content[0])"
   ],
   "metadata": {
    "collapsed": false,
    "ExecuteTime": {
     "end_time": "2024-10-11T10:44:41.118895800Z",
     "start_time": "2024-10-11T10:44:41.084484500Z"
    }
   },
   "id": "a8e60e5c4531f50c"
  },
  {
   "cell_type": "code",
   "execution_count": 20,
   "outputs": [
    {
     "name": "stdout",
     "output_type": "stream",
     "text": [
      "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\n",
      "Molti anni fa, intorno al 3500 a.C., le persone iniziarono a vivere vicino al fiume Nilo. Questo perché il fiume dava loro terra fertile per coltivare il grano, l'orzo e il lino. I sedimenti del fiume erano molto fertile e ciò aiutava a produrre due o tre raccolti all'anno. Però, questo significava anche dover gestire bene l'acqua, per avere sempre abbastanza per mangiare, per i animali e per le piantagioni. Questa gestione dell'acqua dipendeva molto dalle persone che vivevano lì. Si crede che le persone che vivevano vicino al fiume iniziarono a formare comunità più grandi e organizzate. Queste comunità si dividevano in due parti: l'Egitto Alto, situato alle sorgenti del fiume, e l'Egitto Basso, vicino al Mediterraneo.\n"
     ]
    }
   ],
   "source": [
    "import os\n",
    "from groq import Groq\n",
    "token = \"\"\n",
    "print(token)\n",
    "client = Groq(api_key= token)\n",
    "\n",
    "chat_completion = client.chat.completions.create(\n",
    "            messages=[\n",
    "                {\n",
    "                    \"role\": \"system\",\n",
    "                    \"content\": (\n",
    "                        \"Sei un terapista che segue un bambino nell'apprendimento e nella comprensione dei testi.\"\n",
    "                        \"Il tuo compito è di riadattare i testi in base all'età del bambino e alle sue patologie.\"\n",
    "                        \"Non devi aggiungere informazioni extra rispetto al testo originale, ma solo \"\n",
    "                        \"semplificarlo.\"\n",
    "                        \"Usa vocaboli più semplici e frasi brevi per facilitare la comprensione.\"\n",
    "                        \"Il bambino ha 10 anni ed è affetto da dislessia.\"\n",
    "                    ),\n",
    "                },\n",
    "                {\n",
    "                    \"role\": \"user\",\n",
    "                    \"content\": (\n",
    "                        \"Il Sole è una stella di medie dimensioni situata al centro del nostro sistema solare. \"\n",
    "                        \"È una sfera gigante composta principalmente da idrogeno e elio che emette energia attraverso \"\n",
    "                        \"un processo chiamato fusione nucleare.\"\n",
    "                    ),\n",
    "                },\n",
    "                {\n",
    "                    \"role\": \"assistant\",\n",
    "                    \"content\": (\n",
    "                        \"Il Sole è una grande palla di fuoco che si trova al centro del nostro sistema solare. \"\n",
    "                        \"È fatto soprattutto di due gas, chiamati idrogeno ed elio. \"\n",
    "                        \"Il Sole produce molta energia grazie a un processo speciale che avviene al suo interno.\"\n",
    "                    ),\n",
    "                },\n",
    "                {\n",
    "                    \"role\": \"user\",\n",
    "                    \"content\": (\n",
    "                        \"Fin dal 3500 a.C., di pari passo con l'avvento dell'agricoltura, in particolare la \"\n",
    "                        \"coltivazione del grano, dell'orzo e del lino, si ha contezza di insediamenti umani specie \"\n",
    "                        \"lungo le rive del Nilo. Le piene annuali del fiume, infatti, favorivano la coltivazione \"\n",
    "                        \"anche con più raccolti annui grazie ai sedimenti, particolarmente fertili (limo), \"\n",
    "                        \"che il fiume, nel suo ritirarsi, lasciava sul terreno. Ciò comportò, fin dai tempi più \"\n",
    "                        \"remoti, conseguentemente, la necessità di controllare, incanalare e conservare le acque onde \"\n",
    "                        \"garantire il costante approvvigionamento, vuoi per il sostentamento umano, vuoi per quello \"\n",
    "                        \"del bestiame e delle piantagioni.\"\n",
    "                        \"Non è da escludersi che proprio la complessa necessità di far fronte alle esigenze connesse \"\n",
    "                        \"con la gestione dell'agricoltura e, segnatamente, delle acque nilotiche, abbia favorito \"\n",
    "                        \"proprio il formarsi delle prime comunità su territori parziali tuttavia ben differenziati e \"\n",
    "                        \"politicamente e geograficamente individuabili. Tali entità, normalmente individuate con il \"\n",
    "                        \"termine greco di nomi, ben presto si costituirono in due distinte entità geopolitiche più \"\n",
    "                        \"complesse. Tale l'importanza del fiume Nilo, che attraversava tutto il paese, che anche le \"\n",
    "                        \"denominazioni di tali due macro-aree fanno riferimento al fiume: considerando che le \"\n",
    "                        \"sorgenti del Nilo,\"\n",
    "                        \"benché all'epoca non note, dovevano essere a sud, tale sarà l'Alto Egitto, mentre, \"\n",
    "                        \"di converso, l'area del delta, verso il Mediterraneo, sarà indicato come Basso Egitto.\"\n",
    "                    ),\n",
    "                },\n",
    "            ],\n",
    "            model=\"llama3-8b-8192\",\n",
    "        )\n",
    "print(chat_completion.choices[0].message.content)"
   ],
   "metadata": {
    "collapsed": false,
    "ExecuteTime": {
     "end_time": "2024-10-11T10:44:43.906515300Z",
     "start_time": "2024-10-11T10:44:42.753573400Z"
    }
   },
   "id": "9f557ee27ae0c8c9"
  },
  {
   "cell_type": "code",
   "execution_count": null,
   "outputs": [],
   "source": [],
   "metadata": {
    "collapsed": false,
    "ExecuteTime": {
     "start_time": "2024-10-11T10:44:41.120895900Z"
    }
   },
   "id": "6c9518bd5f9cad41"
  }
 ],
 "metadata": {
  "kernelspec": {
   "display_name": "Python 3",
   "language": "python",
   "name": "python3"
  },
  "language_info": {
   "codemirror_mode": {
    "name": "ipython",
    "version": 2
   },
   "file_extension": ".py",
   "mimetype": "text/x-python",
   "name": "python",
   "nbconvert_exporter": "python",
   "pygments_lexer": "ipython2",
   "version": "2.7.6"
  }
 },
 "nbformat": 4,
 "nbformat_minor": 5
}
